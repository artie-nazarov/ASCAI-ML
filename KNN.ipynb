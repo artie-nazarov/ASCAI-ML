{
  "nbformat": 4,
  "nbformat_minor": 0,
  "metadata": {
    "colab": {
      "name": "KNN.ipynb",
      "provenance": [],
      "collapsed_sections": [],
      "include_colab_link": true
    },
    "kernelspec": {
      "name": "python3",
      "display_name": "Python 3"
    }
  },
  "cells": [
    {
      "cell_type": "markdown",
      "metadata": {
        "id": "view-in-github",
        "colab_type": "text"
      },
      "source": [
        "<a href=\"https://colab.research.google.com/github/artie-nazarov/ASCAI-ML/blob/main/KNN.ipynb\" target=\"_parent\"><img src=\"https://colab.research.google.com/assets/colab-badge.svg\" alt=\"Open In Colab\"/></a>"
      ]
    },
    {
      "cell_type": "markdown",
      "metadata": {
        "id": "dbxEUxkpZvlq"
      },
      "source": [
        "# Week 1: K-Nearest-Neighbor\n",
        "#### by Rohan Pandey, Santa Cruz Artificial Intelligence\n",
        "\n",
        "In case you haven't used one before, this is a Jupyter Notebook, basically an environment to run Python code interactively online. Open this notebook in the playground or make a copy to your own Google Drive to be able to run and edit. \n",
        "\n",
        "Once you've done so, you'll be able to click the \"play\" arrows to the left of each code box to run them, though it may take a while to connect to a server the first time around. We'll be using these notebooks for most code demos throughout the quarter."
      ]
    },
    {
      "cell_type": "markdown",
      "metadata": {
        "id": "s58uq7Llgq_x"
      },
      "source": [
        "We start by getting the Iris dataset from sklearn, a Python library. Let's take a look at the structure of this dataset."
      ]
    },
    {
      "cell_type": "code",
      "metadata": {
        "id": "xP48dZFJghWm",
        "colab": {
          "base_uri": "https://localhost:8080/",
          "height": 1000
        },
        "outputId": "43355aa1-0617-4992-8945-7c16ad4a2443"
      },
      "source": [
        "from sklearn.datasets import load_iris\n",
        "\n",
        "iris = load_iris() # loads in the Iris dataset\n",
        "print(iris.feature_names) # features (columns) of Iris\n",
        "print(iris.data) # all datapoints (rows) of Iris\n",
        "print(iris.target_names) # target (output) name columns of Iris\n",
        "print(iris.target) # target labels of each row of Iris"
      ],
      "execution_count": null,
      "outputs": [
        {
          "output_type": "stream",
          "text": [
            "['sepal length (cm)', 'sepal width (cm)', 'petal length (cm)', 'petal width (cm)']\n",
            "[[5.1 3.5 1.4 0.2]\n",
            " [4.9 3.  1.4 0.2]\n",
            " [4.7 3.2 1.3 0.2]\n",
            " [4.6 3.1 1.5 0.2]\n",
            " [5.  3.6 1.4 0.2]\n",
            " [5.4 3.9 1.7 0.4]\n",
            " [4.6 3.4 1.4 0.3]\n",
            " [5.  3.4 1.5 0.2]\n",
            " [4.4 2.9 1.4 0.2]\n",
            " [4.9 3.1 1.5 0.1]\n",
            " [5.4 3.7 1.5 0.2]\n",
            " [4.8 3.4 1.6 0.2]\n",
            " [4.8 3.  1.4 0.1]\n",
            " [4.3 3.  1.1 0.1]\n",
            " [5.8 4.  1.2 0.2]\n",
            " [5.7 4.4 1.5 0.4]\n",
            " [5.4 3.9 1.3 0.4]\n",
            " [5.1 3.5 1.4 0.3]\n",
            " [5.7 3.8 1.7 0.3]\n",
            " [5.1 3.8 1.5 0.3]\n",
            " [5.4 3.4 1.7 0.2]\n",
            " [5.1 3.7 1.5 0.4]\n",
            " [4.6 3.6 1.  0.2]\n",
            " [5.1 3.3 1.7 0.5]\n",
            " [4.8 3.4 1.9 0.2]\n",
            " [5.  3.  1.6 0.2]\n",
            " [5.  3.4 1.6 0.4]\n",
            " [5.2 3.5 1.5 0.2]\n",
            " [5.2 3.4 1.4 0.2]\n",
            " [4.7 3.2 1.6 0.2]\n",
            " [4.8 3.1 1.6 0.2]\n",
            " [5.4 3.4 1.5 0.4]\n",
            " [5.2 4.1 1.5 0.1]\n",
            " [5.5 4.2 1.4 0.2]\n",
            " [4.9 3.1 1.5 0.2]\n",
            " [5.  3.2 1.2 0.2]\n",
            " [5.5 3.5 1.3 0.2]\n",
            " [4.9 3.6 1.4 0.1]\n",
            " [4.4 3.  1.3 0.2]\n",
            " [5.1 3.4 1.5 0.2]\n",
            " [5.  3.5 1.3 0.3]\n",
            " [4.5 2.3 1.3 0.3]\n",
            " [4.4 3.2 1.3 0.2]\n",
            " [5.  3.5 1.6 0.6]\n",
            " [5.1 3.8 1.9 0.4]\n",
            " [4.8 3.  1.4 0.3]\n",
            " [5.1 3.8 1.6 0.2]\n",
            " [4.6 3.2 1.4 0.2]\n",
            " [5.3 3.7 1.5 0.2]\n",
            " [5.  3.3 1.4 0.2]\n",
            " [7.  3.2 4.7 1.4]\n",
            " [6.4 3.2 4.5 1.5]\n",
            " [6.9 3.1 4.9 1.5]\n",
            " [5.5 2.3 4.  1.3]\n",
            " [6.5 2.8 4.6 1.5]\n",
            " [5.7 2.8 4.5 1.3]\n",
            " [6.3 3.3 4.7 1.6]\n",
            " [4.9 2.4 3.3 1. ]\n",
            " [6.6 2.9 4.6 1.3]\n",
            " [5.2 2.7 3.9 1.4]\n",
            " [5.  2.  3.5 1. ]\n",
            " [5.9 3.  4.2 1.5]\n",
            " [6.  2.2 4.  1. ]\n",
            " [6.1 2.9 4.7 1.4]\n",
            " [5.6 2.9 3.6 1.3]\n",
            " [6.7 3.1 4.4 1.4]\n",
            " [5.6 3.  4.5 1.5]\n",
            " [5.8 2.7 4.1 1. ]\n",
            " [6.2 2.2 4.5 1.5]\n",
            " [5.6 2.5 3.9 1.1]\n",
            " [5.9 3.2 4.8 1.8]\n",
            " [6.1 2.8 4.  1.3]\n",
            " [6.3 2.5 4.9 1.5]\n",
            " [6.1 2.8 4.7 1.2]\n",
            " [6.4 2.9 4.3 1.3]\n",
            " [6.6 3.  4.4 1.4]\n",
            " [6.8 2.8 4.8 1.4]\n",
            " [6.7 3.  5.  1.7]\n",
            " [6.  2.9 4.5 1.5]\n",
            " [5.7 2.6 3.5 1. ]\n",
            " [5.5 2.4 3.8 1.1]\n",
            " [5.5 2.4 3.7 1. ]\n",
            " [5.8 2.7 3.9 1.2]\n",
            " [6.  2.7 5.1 1.6]\n",
            " [5.4 3.  4.5 1.5]\n",
            " [6.  3.4 4.5 1.6]\n",
            " [6.7 3.1 4.7 1.5]\n",
            " [6.3 2.3 4.4 1.3]\n",
            " [5.6 3.  4.1 1.3]\n",
            " [5.5 2.5 4.  1.3]\n",
            " [5.5 2.6 4.4 1.2]\n",
            " [6.1 3.  4.6 1.4]\n",
            " [5.8 2.6 4.  1.2]\n",
            " [5.  2.3 3.3 1. ]\n",
            " [5.6 2.7 4.2 1.3]\n",
            " [5.7 3.  4.2 1.2]\n",
            " [5.7 2.9 4.2 1.3]\n",
            " [6.2 2.9 4.3 1.3]\n",
            " [5.1 2.5 3.  1.1]\n",
            " [5.7 2.8 4.1 1.3]\n",
            " [6.3 3.3 6.  2.5]\n",
            " [5.8 2.7 5.1 1.9]\n",
            " [7.1 3.  5.9 2.1]\n",
            " [6.3 2.9 5.6 1.8]\n",
            " [6.5 3.  5.8 2.2]\n",
            " [7.6 3.  6.6 2.1]\n",
            " [4.9 2.5 4.5 1.7]\n",
            " [7.3 2.9 6.3 1.8]\n",
            " [6.7 2.5 5.8 1.8]\n",
            " [7.2 3.6 6.1 2.5]\n",
            " [6.5 3.2 5.1 2. ]\n",
            " [6.4 2.7 5.3 1.9]\n",
            " [6.8 3.  5.5 2.1]\n",
            " [5.7 2.5 5.  2. ]\n",
            " [5.8 2.8 5.1 2.4]\n",
            " [6.4 3.2 5.3 2.3]\n",
            " [6.5 3.  5.5 1.8]\n",
            " [7.7 3.8 6.7 2.2]\n",
            " [7.7 2.6 6.9 2.3]\n",
            " [6.  2.2 5.  1.5]\n",
            " [6.9 3.2 5.7 2.3]\n",
            " [5.6 2.8 4.9 2. ]\n",
            " [7.7 2.8 6.7 2. ]\n",
            " [6.3 2.7 4.9 1.8]\n",
            " [6.7 3.3 5.7 2.1]\n",
            " [7.2 3.2 6.  1.8]\n",
            " [6.2 2.8 4.8 1.8]\n",
            " [6.1 3.  4.9 1.8]\n",
            " [6.4 2.8 5.6 2.1]\n",
            " [7.2 3.  5.8 1.6]\n",
            " [7.4 2.8 6.1 1.9]\n",
            " [7.9 3.8 6.4 2. ]\n",
            " [6.4 2.8 5.6 2.2]\n",
            " [6.3 2.8 5.1 1.5]\n",
            " [6.1 2.6 5.6 1.4]\n",
            " [7.7 3.  6.1 2.3]\n",
            " [6.3 3.4 5.6 2.4]\n",
            " [6.4 3.1 5.5 1.8]\n",
            " [6.  3.  4.8 1.8]\n",
            " [6.9 3.1 5.4 2.1]\n",
            " [6.7 3.1 5.6 2.4]\n",
            " [6.9 3.1 5.1 2.3]\n",
            " [5.8 2.7 5.1 1.9]\n",
            " [6.8 3.2 5.9 2.3]\n",
            " [6.7 3.3 5.7 2.5]\n",
            " [6.7 3.  5.2 2.3]\n",
            " [6.3 2.5 5.  1.9]\n",
            " [6.5 3.  5.2 2. ]\n",
            " [6.2 3.4 5.4 2.3]\n",
            " [5.9 3.  5.1 1.8]]\n",
            "['setosa' 'versicolor' 'virginica']\n",
            "[0 0 0 0 0 0 0 0 0 0 0 0 0 0 0 0 0 0 0 0 0 0 0 0 0 0 0 0 0 0 0 0 0 0 0 0 0\n",
            " 0 0 0 0 0 0 0 0 0 0 0 0 0 1 1 1 1 1 1 1 1 1 1 1 1 1 1 1 1 1 1 1 1 1 1 1 1\n",
            " 1 1 1 1 1 1 1 1 1 1 1 1 1 1 1 1 1 1 1 1 1 1 1 1 1 1 2 2 2 2 2 2 2 2 2 2 2\n",
            " 2 2 2 2 2 2 2 2 2 2 2 2 2 2 2 2 2 2 2 2 2 2 2 2 2 2 2 2 2 2 2 2 2 2 2 2 2\n",
            " 2 2]\n"
          ],
          "name": "stdout"
        }
      ]
    },
    {
      "cell_type": "markdown",
      "metadata": {
        "id": "iiTePEbIhOrz"
      },
      "source": [
        "# Simple Overview Version\n",
        "\n",
        "Now we'll split it into training and testing batches with an 80% to 20% ratio. Btw, check out what happens when you play with random_state. The $x$ batches contain the features/input datapoints (petal width, sepal length, etc) while the $y$ batches contain the corresponding targets/output (setosa, versicolor, virginica). \n",
        "\n",
        "Then we iterate through values of $k$ 1 - 40 and for each iteration, train a model using that $k$ value on the training batches. We'll then make predictions on the $x$ testing batch and compare the predicted output to the true outputs, i.e. the $y$ testing batch. This comparison will be stored as an error percentage for each value of $k$.\n",
        "\n",
        "After iterating through all $k$, we can find the value that produced the minimum error. We'll also plot the $k$ values against the error they produced just as a visualization."
      ]
    },
    {
      "cell_type": "code",
      "metadata": {
        "id": "Qq_AXpsyb16o",
        "colab": {
          "base_uri": "https://localhost:8080/",
          "height": 318
        },
        "outputId": "8e6676ba-1fb1-4627-a8ba-e9689658f844"
      },
      "source": [
        "from sklearn.model_selection import train_test_split\n",
        "from sklearn.neighbors import KNeighborsClassifier\n",
        "from sklearn import metrics\n",
        "import matplotlib.pyplot as plt\n",
        "\n",
        "x_train, x_test, y_train, y_test = train_test_split(iris.data, iris.target, test_size=0.2, random_state=0)\n",
        "errors = {}\n",
        "\n",
        "for k in range(1, 40):\n",
        "        knn = KNeighborsClassifier(n_neighbors=k).fit(x_train,y_train)\n",
        "        y_pred = knn.predict(x_test)\n",
        "        errors[k] = (1 - metrics.accuracy_score(y_test,y_pred)) * 100\n",
        "\n",
        "\n",
        "minErr = min(errors.items(), key=lambda x: x[1])\n",
        "print('Optimal k value:', minErr[0])\n",
        "\n",
        "plt.plot(list(errors.keys()), list(errors.values()))\n",
        "plt.xlabel('k value')\n",
        "plt.ylabel('Error %')"
      ],
      "execution_count": null,
      "outputs": [
        {
          "output_type": "stream",
          "text": [
            "Optimal k value: 8\n"
          ],
          "name": "stdout"
        },
        {
          "output_type": "execute_result",
          "data": {
            "text/plain": [
              "Text(0, 0.5, 'Error %')"
            ]
          },
          "metadata": {
            "tags": []
          },
          "execution_count": 4
        },
        {
          "output_type": "display_data",
          "data": {
            "image/png": "[encoded data removed]",
            "text/plain": [
              "<Figure size 432x288 with 1 Axes>"
            ]
          },
          "metadata": {
            "tags": [],
            "needs_background": "light"
          }
        }
      ]
    },
    {
      "cell_type": "markdown",
      "metadata": {
        "id": "i_u2wz2WjVm3"
      },
      "source": [
        "# Building it from Scratch Version\n",
        "\n",
        "That was a good overview, but it didn't really show you the inner workings of the KNN model; we were just passing it parameters and it did the learning internally. Now we will build the model from start to finish. Let's start by writing some of the helper functions we know that we'll need.\n",
        "\n",
        "The first function is a Euclidean Distance function. This will allow us to calculate the distance between two points in space, which is needed if we want to find the nearest neighbors.\n",
        "\n",
        "The second function is a \"voting\" function. Once we've found our k number of nearest neighbors, we'll need to find which value occurs the most in it, which this vote will determine."
      ]
    },
    {
      "cell_type": "code",
      "metadata": {
        "id": "zuL3k1vzNbc3"
      },
      "source": [
        "# calculates standard Euclidean Distance between 2 points\n",
        "def euclideanDistance(p1, p2):\n",
        "    distance = 0\n",
        "    for x in range(len(p1)):\n",
        "        distance += (p1[x] - p2[x]) ** 2\n",
        "    return distance ** 1/2 # sqrt\n",
        "\n",
        "# finds the value in an array with the most occurrences\n",
        "def vote(arr):\n",
        "  count = {} # dict of {val: occurrenceNum}\n",
        "  for i in arr:\n",
        "    if i not in count:\n",
        "      count[i] = 0\n",
        "    count[i] += 1\n",
        "  highest = max(count.items(), key=lambda x: x[1]) # maximizes occurenceNum\n",
        "  return highest[0] # returns only val"
      ],
      "execution_count": null,
      "outputs": []
    },
    {
      "cell_type": "markdown",
      "metadata": {
        "id": "ad9H-YaSk0Qi"
      },
      "source": [
        "Now we'll get into writing the actual KNN model. \n",
        "\n",
        "This first function $testK$, will determine the total error percentage given a value of $k$ and a dataset to test it on. We'll use it in both training and testing our model. This function iterates through every point, finds its $k$ nearest neighbors, and determines whether the neighbors' vote was correct. If the prediction was wrong, it'll increment the error by 1. After going through all the datapoints, it returns the total error percentage.\n",
        "\n",
        "The next function $trainKnn$ is actually quite simple and closely parallels the simple sklearn model we wrote at the start. It iterates through 40 values of $k$ and tests each one, building a list of the errors which it plots. It then finds and returns the $k$ resulting in the minimum error.\n",
        "\n",
        "Note that both models take a distance metric function that defaults to the euclideanDistance function we wrote earlier. We'll come back to this later."
      ]
    },
    {
      "cell_type": "code",
      "metadata": {
        "id": "XT5ApZn-OSZn"
      },
      "source": [
        "from sklearn.model_selection import train_test_split\n",
        "import matplotlib.pyplot as plt\n",
        "\n",
        "# tests a k value by iterating through data\n",
        "def testK(data, targets, k, distanceMetric=euclideanDistance):\n",
        "  k_error = 0 # error for each k starts at 0\n",
        "  for i in range(len(data)): # first datapoint iteration\n",
        "    dists = [] # distances between datapoints i and j\n",
        "    for j in range(i + 1, len(data)): # second datapoint iteration\n",
        "      dist = (distanceMetric(data[i], data[j]), targets[j]) # (distance, target)\n",
        "      dists.append(dist)\n",
        "\n",
        "    if len(dists) < k: # breaks out of loop if too few data left\n",
        "      break\n",
        "\n",
        "    dists = sorted(dists, key=lambda x: x[0]) # sorts by nearest distance\n",
        "    nearest = dists[0:k] # k nearest neighboring datapoints\n",
        "    nearest_targets = [val[1] for val in nearest] # extracts nearest targets\n",
        "\n",
        "    if targets[i] != vote(nearest_targets): # compares actual target and vote\n",
        "      k_error += 1 # increments error if vote predicts incorrectly\n",
        "      \n",
        "  return k_error / len(data)\n",
        "\n",
        "# finds the optimum k value from training data and targets\n",
        "def trainKnn(data, targets, distanceMetric=euclideanDistance):\n",
        "  error = [] # arr of error for each k val\n",
        "  for k in range(1, 40):\n",
        "    k_error = testK(data, targets, k, distanceMetric) # tests specific k value\n",
        "    error.append((k, k_error)) # (k value, error percent)\n",
        "\n",
        "  # plotting error of model with respect to k\n",
        "  plt.xlabel('k value')\n",
        "  plt.ylabel('error percent')\n",
        "  plt.plot([i[0] for i in error], [i[1] * 100 for i in error])\n",
        "\n",
        "  # print('err:', error) # print error for all k\n",
        "  min_error = min(error, key=lambda x: x[1]) # minimize error\n",
        "  return min_error[0] # minimum error k value"
      ],
      "execution_count": null,
      "outputs": []
    },
    {
      "cell_type": "markdown",
      "metadata": {
        "id": "loJ1j04Co3_A"
      },
      "source": [
        "Below, we split the Iris dataset into batches and train a model, find a $k$, and then test that value on the testing batch. As you can see, our results are different, and worse, than sklearn's built in model. What are some reasons you think this may be?"
      ]
    },
    {
      "cell_type": "code",
      "metadata": {
        "id": "1Zb-4foQo4eB",
        "colab": {
          "base_uri": "https://localhost:8080/",
          "height": 314
        },
        "outputId": "1c5df84c-8aa9-4215-aa93-e21de299a43b"
      },
      "source": [
        "x_train, x_test, y_train, y_test = train_test_split(iris.data, iris.target, test_size=0.2, random_state=0)\n",
        "k = trainKnn(x_train, y_train)\n",
        "print('Optimal k value:', k)\n",
        "err = testK(x_test, y_test, k) # testK can also now be used to test the model\n",
        "print('test error:', err)"
      ],
      "execution_count": null,
      "outputs": [
        {
          "output_type": "stream",
          "text": [
            "Optimal k value: 3\n",
            "test error: 0.16666666666666666\n"
          ],
          "name": "stdout"
        },
        {
          "output_type": "display_data",
          "data": {
            "image/png": "[encoded data removed]",
            "text/plain": [
              "<Figure size 432x288 with 1 Axes>"
            ]
          },
          "metadata": {
            "tags": [],
            "needs_background": "light"
          }
        }
      ]
    },
    {
      "cell_type": "markdown",
      "metadata": {
        "id": "h1iCwu7No-D9"
      },
      "source": [
        "This idea of finding the parameter(s) that result in minimum error is at the foundation of Machine Learning, and even though the model may vary largely, the process we just went through remains more or less the same for most of ML.\n",
        "\n",
        "In ML, we also have \"hyperparameters\" which are parameters that the model doesn't learn, but rather we tune ourselves to produce the best results. The main hyperparameter for KNN would be the distance metric function, but you could hyperparametrize other things like the number of $k$ values to test as well.\n",
        "\n",
        "Take a few minutes to write another distance metric function. Then train and test a model using that function to judge which metric works best."
      ]
    },
    {
      "cell_type": "code",
      "metadata": {
        "id": "aSd2kfPRq-L5",
        "colab": {
          "base_uri": "https://localhost:8080/",
          "height": 330
        },
        "outputId": "c24b74e2-d105-419e-c287-54121c4dbc84"
      },
      "source": [
        "# define this function using Manhattan, Cosine, or any other distance function you like\n",
        "# p1, p2 are going to be lists of points p1 = [2, 3, 4, 6 ...]\n",
        "def myDistance(p1, p2):\n",
        "  pass\n",
        "\n",
        "def manhattan(p1, p2):\n",
        "  distance = 0\n",
        "  for x in range(len(p1)):\n",
        "    distance += abs(p1[x] - p2[x])\n",
        "  return distance \n",
        "\n",
        "def cosine(p1, p2):\n",
        "  mults = []\n",
        "\n",
        "  for i in range(len(p1)):\n",
        "    mults.append(p1[i] * p2[i])\n",
        "  \n",
        "  mySum = 0\n",
        "  for i in mults:\n",
        "    mySum += i\n",
        "\n",
        "  return mySum\n",
        "\n",
        "print(manhattan([32, 54], [-1, -5, 1]))\n",
        "\n",
        "# now train and test a model using your distance function\n",
        "x_train, x_test, y_train, y_test = train_test_split(iris.data, iris.target, test_size=0.2, random_state=0)\n",
        "k = trainKnn(x_train, y_train, distanceMetric=cosine)\n",
        "print('Optimal k value:', k)\n",
        "err = testK(x_test, y_test, k) # testK can also now be used to test the model\n",
        "print('test error:', err)"
      ],
      "execution_count": null,
      "outputs": [
        {
          "output_type": "stream",
          "text": [
            "92\n",
            "Optimal k value: 39\n",
            "test error: 0.0\n"
          ],
          "name": "stdout"
        },
        {
          "output_type": "display_data",
          "data": {
            "image/png": "[encoded data removed]",
            "text/plain": [
              "<Figure size 432x288 with 1 Axes>"
            ]
          },
          "metadata": {
            "tags": []
          }
        }
      ]
    },
    {
      "cell_type": "markdown",
      "metadata": {
        "id": "mLlCoSgwrke1"
      },
      "source": [
        "Congratulations, you just built your first Machine Learning model and tuned a hyperparameter!"
      ]
    }
  ]
}